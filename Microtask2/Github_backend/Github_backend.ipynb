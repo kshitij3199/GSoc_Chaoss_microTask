{
 "cells": [
  {
   "cell_type": "markdown",
   "metadata": {},
   "source": [
    "## Microtask #2 : GitHub Backend\n",
    ">To create a Python script to execute [Perceval](https://github.com/chaoss/grimoirelab-perceval) via its Python interface using the *GitHub* backend."
   ]
  },
  {
   "cell_type": "markdown",
   "metadata": {},
   "source": [
    "We will be using chaoss [DSA_LAB](https://github.com/kshitij3199/DSA_LAB)a s our target repo."
   ]
  },
  {
   "cell_type": "code",
   "execution_count": 1,
   "metadata": {},
   "outputs": [],
   "source": [
    "# importing required modules\n",
    "from perceval.backends.core.github import ( GitHub, \n",
    "                                            CATEGORY_ISSUE, CATEGORY_PULL_REQUEST)\n",
    "from datetime import datetime\n",
    "from pprint import pprint\n",
    "import json\n",
    "\n",
    "# FOR Importing GitHub API Token \n",
    "import config"
   ]
  },
  {
   "cell_type": "code",
   "execution_count": 2,
   "metadata": {},
   "outputs": [],
   "source": [
    "REPOSITORY_NAME = \"DSA_LAB\"\n",
    "\n",
    "# Initializing the GitHub backend\n",
    "github_backend = GitHub(owner=\"kshitij3199\", api_token=[config.info[\"API_Token\"]], repository=REPOSITORY_NAME)"
   ]
  },
  {
   "cell_type": "code",
   "execution_count": 3,
   "metadata": {},
   "outputs": [
    {
     "name": "stdout",
     "output_type": "stream",
     "text": [
      "kshitij3199\n"
     ]
    }
   ],
   "source": [
    "print(github_backend.owner)"
   ]
  },
  {
   "cell_type": "code",
   "execution_count": 4,
   "metadata": {},
   "outputs": [
    {
     "name": "stdout",
     "output_type": "stream",
     "text": [
      "['issue', 'pull_request', 'repository']\n"
     ]
    }
   ],
   "source": [
    "# Categories of information which can be retrieved\n",
    "print(github_backend.categories)"
   ]
  },
  {
   "cell_type": "code",
   "execution_count": 5,
   "metadata": {},
   "outputs": [
    {
     "name": "stdout",
     "output_type": "stream",
     "text": [
      "DSA_LAB\n"
     ]
    }
   ],
   "source": [
    "print(github_backend.repository)"
   ]
  },
  {
   "cell_type": "code",
   "execution_count": 6,
   "metadata": {},
   "outputs": [
    {
     "name": "stdout",
     "output_type": "stream",
     "text": [
      "https://github.com/kshitij3199/DSA_LAB\n"
     ]
    }
   ],
   "source": [
    "print(github_backend.origin)"
   ]
  },
  {
   "cell_type": "code",
   "execution_count": 7,
   "metadata": {},
   "outputs": [],
   "source": [
    "# Datetime range in which ISSUEs information is to be fetched\n",
    "from_date = datetime(2020, 1, 1)\n",
    "to_date = datetime(2020,3,10)"
   ]
  },
  {
   "cell_type": "code",
   "execution_count": 8,
   "metadata": {},
   "outputs": [
    {
     "name": "stdout",
     "output_type": "stream",
     "text": [
      "NUMBER OF ISSUES:  5\n"
     ]
    }
   ],
   "source": [
    "# Calling fetch method\n",
    "# printing number of issues\n",
    "range_issues = github_backend.fetch(category='issue', from_date=from_date, to_date=to_date)\n",
    "range_issues_list = list(range_issues)\n",
    "n_issues = len(range_issues_list)\n",
    "print(\"NUMBER OF ISSUES: \", n_issues)"
   ]
  },
  {
   "cell_type": "code",
   "execution_count": 9,
   "metadata": {},
   "outputs": [
    {
     "name": "stdout",
     "output_type": "stream",
     "text": [
      "Attributes of issue JSON document: \n",
      "dict_keys(['backend_name', 'backend_version', 'perceval_version', 'timestamp', 'origin', 'uuid', 'updated_on', 'classified_fields_filtered', 'category', 'search_fields', 'tag', 'data'])\n"
     ]
    }
   ],
   "source": [
    "#checking structure of issue (here: last issue) \n",
    "last_issue = range_issues_list[n_issues-1]\n",
    "print(\"Attributes of issue JSON document: \")\n",
    "print(last_issue.keys())\n"
   ]
  },
  {
   "cell_type": "code",
   "execution_count": 10,
   "metadata": {},
   "outputs": [],
   "source": [
    "#Putting all issues in issue.json file\n",
    "with open(\"issue.json\", \"w\") as write_file:\n",
    "  json.dump(last_issue, write_file)\n"
   ]
  },
  {
   "cell_type": "code",
   "execution_count": 11,
   "metadata": {},
   "outputs": [
    {
     "name": "stdout",
     "output_type": "stream",
     "text": [
      "----------------------------------------------------------------------------------------------------\n",
      "TITLE:  Add files via upload\n",
      "CLOSED AT:  2020-03-09T19:52:51Z\n",
      "No of comments:  0\n",
      "Issue Creator Username:  kshitij3199\n",
      "\tUser Association type with repository: OWNER\n",
      "\tCreated at: 2020-03-09T19:52:29Z\n",
      "\tComment: \n",
      "\n",
      "----------------------------------------------------------------------------------------------------\n",
      "----------------------------------------------------------------------------------------------------\n",
      "TITLE:  lab5_updated\n",
      "CLOSED AT:  2020-03-09T20:02:50Z\n",
      "No of comments:  0\n",
      "Issue Creator Username:  kshitij3199\n",
      "\tUser Association type with repository: OWNER\n",
      "\tCreated at: 2020-03-09T20:01:18Z\n",
      "\tComment: New files added and code completed\n",
      "\n",
      "----------------------------------------------------------------------------------------------------\n",
      "----------------------------------------------------------------------------------------------------\n",
      "TITLE:  updated lab 6\n",
      "CLOSED AT:  2020-03-09T20:03:20Z\n",
      "No of comments:  0\n",
      "Issue Creator Username:  kshitij3199\n",
      "\tUser Association type with repository: OWNER\n",
      "\tCreated at: 2020-03-09T20:01:50Z\n",
      "\tComment: Code completed of lab 6\n",
      "\n",
      "----------------------------------------------------------------------------------------------------\n",
      "----------------------------------------------------------------------------------------------------\n",
      "TITLE:  Lab4 is not present\n",
      "CLOSED AT:  None\n",
      "No of comments:  0\n",
      "Issue Creator Username:  kshitij3199\n",
      "\tUser Association type with repository: OWNER\n",
      "\tCreated at: 2020-03-09T21:56:08Z\n",
      "\tComment: Lab4 is not uploaded\n",
      "\n",
      "----------------------------------------------------------------------------------------------------\n",
      "----------------------------------------------------------------------------------------------------\n",
      "TITLE:  lab4_incomplete\n",
      "CLOSED AT:  None\n",
      "No of comments:  0\n",
      "Issue Creator Username:  kshitij3199\n",
      "\tUser Association type with repository: OWNER\n",
      "\tCreated at: 2020-03-09T22:25:49Z\n",
      "\tComment: \n",
      "\n",
      "----------------------------------------------------------------------------------------------------\n"
     ]
    }
   ],
   "source": [
    "#Printing some information (like issue title,issue closed date etc) of issues\n",
    "for issue in range_issues_list:\n",
    "    print(\"-\" * 100)\n",
    "\n",
    "    # Issue Title\n",
    "    print(\"TITLE: \", issue[\"data\"][\"title\"])\n",
    "    # Issue Closed at\n",
    "    print(\"CLOSED AT: \", issue[\"data\"][\"closed_at\"])\n",
    "    # Number of comments that the issue received\n",
    "    print(\"No of comments: \", issue[\"data\"][\"comments\"])\n",
    "\n",
    "    # Issue creator details\n",
    "    print(\"Issue Creator Username: \", issue[\"data\"][\"user\"][\"login\"])\n",
    "    print(\n",
    "        \"\\tUser Association type with repository: {association}\\n\\tCreated at: {created}\\n\\tComment: {comment}\\n\".format(\n",
    "            association=issue[\"data\"][\"author_association\"], comment=issue[\"data\"][\"body\"],\n",
    "            created=issue[\"data\"][\"created_at\"]))\n",
    "\n",
    "    # Issue comments details\n",
    "    comments_data = issue[\"data\"][\"comments_data\"]\n",
    "    for comment in comments_data:\n",
    "        print(\"Username: \", comment[\"user\"][\"login\"])\n",
    "        print(\n",
    "            \"\\tUser Association type with repository: {association}\\n\\tCreated at: {created}\\n\\tComment: {comment}\\n\".format(\n",
    "                association=comment[\"author_association\"], comment=comment[\"body\"], created=comment[\"created_at\"]))\n",
    "\n",
    "    print(\"-\" * 100)"
   ]
  },
  {
   "cell_type": "code",
   "execution_count": 12,
   "metadata": {},
   "outputs": [
    {
     "name": "stdout",
     "output_type": "stream",
     "text": [
      "Number of pulll request  4\n"
     ]
    }
   ],
   "source": [
    "#checking structure of pull request (here: last issue) \n",
    "pull_request = github_backend.fetch(category=CATEGORY_PULL_REQUEST,from_date=from_date,to_date=to_date)\n",
    "range_pull_request_list = list(pull_request)\n",
    "n_pulls = len(range_pull_request_list)\n",
    "print(\"Number of pulll request \",n_pulls)"
   ]
  },
  {
   "cell_type": "code",
   "execution_count": 13,
   "metadata": {},
   "outputs": [],
   "source": [
    "#Putting pull request data in pull_request.json file\n",
    "with open(\"pull_request.json\", \"w\") as write_file:\n",
    "    json.dump(range_pull_request_list[n_pulls-1], write_file)"
   ]
  },
  {
   "cell_type": "code",
   "execution_count": 14,
   "metadata": {},
   "outputs": [
    {
     "name": "stdout",
     "output_type": "stream",
     "text": [
      "----------------------------------------------------------------------------------------------------\n",
      "#1: Add files via upload\n",
      "Pull Request State:  closed\n",
      "\n",
      "Merged:  True\n",
      "Merged at:  2020-03-09T19:52:51Z\n",
      "Number of comments:  0\n",
      "\n",
      "Additions: +11698\n",
      "Deletions: -0\n",
      "\n",
      "Number of Commits: 1\n",
      "Number of files changed: 28\n",
      "Username:  kshitij3199\n",
      "\tUser Association type with repository: OWNER\n",
      "\tCreated at: 2020-03-09T19:52:29Z\n",
      "\tComment: \n",
      "\n",
      "----------------------------------------------------------------------------------------------------\n",
      "----------------------------------------------------------------------------------------------------\n",
      "#2: lab5_updated\n",
      "Pull Request State:  closed\n",
      "\n",
      "Merged:  True\n",
      "Merged at:  2020-03-09T20:02:50Z\n",
      "Number of comments:  0\n",
      "\n",
      "Additions: +211302\n",
      "Deletions: -0\n",
      "\n",
      "Number of Commits: 1\n",
      "Number of files changed: 18\n",
      "Username:  kshitij3199\n",
      "\tUser Association type with repository: OWNER\n",
      "\tCreated at: 2020-03-09T20:01:18Z\n",
      "\tComment: New files added and code completed\n",
      "\n",
      "----------------------------------------------------------------------------------------------------\n",
      "----------------------------------------------------------------------------------------------------\n",
      "#3: updated lab 6\n",
      "Pull Request State:  closed\n",
      "\n",
      "Merged:  True\n",
      "Merged at:  2020-03-09T20:03:19Z\n",
      "Number of comments:  0\n",
      "\n",
      "Additions: +11445\n",
      "Deletions: -0\n",
      "\n",
      "Number of Commits: 1\n",
      "Number of files changed: 13\n",
      "Username:  kshitij3199\n",
      "\tUser Association type with repository: OWNER\n",
      "\tCreated at: 2020-03-09T20:01:50Z\n",
      "\tComment: Code completed of lab 6\n",
      "\n",
      "----------------------------------------------------------------------------------------------------\n",
      "----------------------------------------------------------------------------------------------------\n",
      "#5: lab4_incomplete\n",
      "Pull Request State:  open\n",
      "\n",
      "Merged:  False\n",
      "Closed at:  None\n",
      "Number of comments:  0\n",
      "\n",
      "Additions: +0\n",
      "Deletions: -0\n",
      "\n",
      "Number of Commits: 1\n",
      "Number of files changed: 1\n",
      "Username:  kshitij3199\n",
      "\tUser Association type with repository: OWNER\n",
      "\tCreated at: 2020-03-09T22:25:49Z\n",
      "\tComment: \n",
      "\n",
      "----------------------------------------------------------------------------------------------------\n"
     ]
    }
   ],
   "source": [
    "#Printing some information of pull request( like pull request number,title,merged or not etc) \n",
    "for pull_request in range_pull_request_list:\n",
    "    print(\"-\"*100)\n",
    "    \n",
    "    # Pull request Number and Title\n",
    "    print(\"#{pull_request}: {title}\".format(pull_request=pull_request[\"data\"][\"number\"], title=pull_request[\"data\"][\"title\"]))\n",
    "    \n",
    "    # Pull request state [ open / closed ]\n",
    "    print(\"Pull Request State: \", pull_request[\"data\"][\"state\"])\n",
    "    \n",
    "    # Merged True / False\n",
    "    print(\"\\nMerged: \", pull_request[\"data\"][\"merged\"])\n",
    "    \n",
    "    if pull_request[\"data\"][\"merged\"]:\n",
    "        print(\"Merged at: \", pull_request[\"data\"][\"merged_at\"])\n",
    "    else:\n",
    "        print(\"Closed at: \", pull_request[\"data\"][\"closed_at\"])\n",
    "    \n",
    "    print(\"Number of comments: \", pull_request[\"data\"][\"comments\"])\n",
    "\n",
    "    print(\"\\nAdditions: +{adds}\\nDeletions: -{dels}\".format(adds=pull_request[\"data\"][\"additions\"], dels=pull_request[\"data\"][\"deletions\"]))\n",
    "    \n",
    "    print(\"\\nNumber of Commits: {commits}\\nNumber of files changed: {file_changes}\".format(commits=pull_request[\"data\"][\"commits\"], file_changes=pull_request[\"data\"][\"changed_files\"]))\n",
    "    \n",
    "    # Pull request creator details\n",
    "    print(\"Username: \", pull_request[\"data\"][\"user\"][\"login\"])\n",
    "    print(\"\\tUser Association type with repository: {association}\\n\\tCreated at: {created}\\n\\tComment: {comment}\\n\".format(association=pull_request[\"data\"][\"author_association\"], comment=pull_request[\"data\"][\"body\"], created=pull_request[\"data\"][\"created_at\"]))\n",
    "    \n",
    "    print(\"-\"*100)"
   ]
  },
  {
   "cell_type": "code",
   "execution_count": null,
   "metadata": {},
   "outputs": [],
   "source": []
  }
 ],
 "metadata": {
  "kernelspec": {
   "display_name": "Python 3",
   "language": "python",
   "name": "python3"
  },
  "language_info": {
   "codemirror_mode": {
    "name": "ipython",
    "version": 3
   },
   "file_extension": ".py",
   "mimetype": "text/x-python",
   "name": "python",
   "nbconvert_exporter": "python",
   "pygments_lexer": "ipython3",
   "version": "3.7.4"
  }
 },
 "nbformat": 4,
 "nbformat_minor": 2
}
